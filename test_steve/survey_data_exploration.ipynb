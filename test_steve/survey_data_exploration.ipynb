{
 "cells": [
  {
   "cell_type": "code",
   "execution_count": 1,
   "metadata": {},
   "outputs": [],
   "source": [
    "# Import Dependencies\n",
    "import pandas as pd \n",
    "import numpy as np\n",
    "from pathlib import Path\n",
    "import matplotlib.pyplot as plt\n",
    "\n",
    "from sklearn.model_selection import train_test_split\n",
    "from sklearn.preprocessing import StandardScaler\n",
    "from sklearn.metrics import accuracy_score, confusion_matrix, classification_report\n",
    "\n",
    "# import tensorflow as tf"
   ]
  },
  {
   "cell_type": "code",
   "execution_count": 2,
   "metadata": {},
   "outputs": [
    {
     "data": {
      "text/html": [
       "<div>\n",
       "<style scoped>\n",
       "    .dataframe tbody tr th:only-of-type {\n",
       "        vertical-align: middle;\n",
       "    }\n",
       "\n",
       "    .dataframe tbody tr th {\n",
       "        vertical-align: top;\n",
       "    }\n",
       "\n",
       "    .dataframe thead th {\n",
       "        text-align: right;\n",
       "    }\n",
       "</style>\n",
       "<table border=\"1\" class=\"dataframe\">\n",
       "  <thead>\n",
       "    <tr style=\"text-align: right;\">\n",
       "      <th></th>\n",
       "      <th>Timestamp</th>\n",
       "      <th>Age</th>\n",
       "      <th>Gender</th>\n",
       "      <th>Country</th>\n",
       "      <th>state</th>\n",
       "      <th>self_employed</th>\n",
       "      <th>family_history</th>\n",
       "      <th>treatment</th>\n",
       "      <th>work_interfere</th>\n",
       "      <th>no_employees</th>\n",
       "      <th>...</th>\n",
       "      <th>leave</th>\n",
       "      <th>mental_health_consequence</th>\n",
       "      <th>phys_health_consequence</th>\n",
       "      <th>coworkers</th>\n",
       "      <th>supervisor</th>\n",
       "      <th>mental_health_interview</th>\n",
       "      <th>phys_health_interview</th>\n",
       "      <th>mental_vs_physical</th>\n",
       "      <th>obs_consequence</th>\n",
       "      <th>comments</th>\n",
       "    </tr>\n",
       "  </thead>\n",
       "  <tbody>\n",
       "    <tr>\n",
       "      <th>0</th>\n",
       "      <td>2014-08-27 11:29:31</td>\n",
       "      <td>37</td>\n",
       "      <td>Female</td>\n",
       "      <td>United States</td>\n",
       "      <td>IL</td>\n",
       "      <td>NaN</td>\n",
       "      <td>No</td>\n",
       "      <td>Yes</td>\n",
       "      <td>Often</td>\n",
       "      <td>6-25</td>\n",
       "      <td>...</td>\n",
       "      <td>Somewhat easy</td>\n",
       "      <td>No</td>\n",
       "      <td>No</td>\n",
       "      <td>Some of them</td>\n",
       "      <td>Yes</td>\n",
       "      <td>No</td>\n",
       "      <td>Maybe</td>\n",
       "      <td>Yes</td>\n",
       "      <td>No</td>\n",
       "      <td>NaN</td>\n",
       "    </tr>\n",
       "    <tr>\n",
       "      <th>1</th>\n",
       "      <td>2014-08-27 11:29:37</td>\n",
       "      <td>44</td>\n",
       "      <td>M</td>\n",
       "      <td>United States</td>\n",
       "      <td>IN</td>\n",
       "      <td>NaN</td>\n",
       "      <td>No</td>\n",
       "      <td>No</td>\n",
       "      <td>Rarely</td>\n",
       "      <td>More than 1000</td>\n",
       "      <td>...</td>\n",
       "      <td>Don't know</td>\n",
       "      <td>Maybe</td>\n",
       "      <td>No</td>\n",
       "      <td>No</td>\n",
       "      <td>No</td>\n",
       "      <td>No</td>\n",
       "      <td>No</td>\n",
       "      <td>Don't know</td>\n",
       "      <td>No</td>\n",
       "      <td>NaN</td>\n",
       "    </tr>\n",
       "    <tr>\n",
       "      <th>2</th>\n",
       "      <td>2014-08-27 11:29:44</td>\n",
       "      <td>32</td>\n",
       "      <td>Male</td>\n",
       "      <td>Canada</td>\n",
       "      <td>NaN</td>\n",
       "      <td>NaN</td>\n",
       "      <td>No</td>\n",
       "      <td>No</td>\n",
       "      <td>Rarely</td>\n",
       "      <td>6-25</td>\n",
       "      <td>...</td>\n",
       "      <td>Somewhat difficult</td>\n",
       "      <td>No</td>\n",
       "      <td>No</td>\n",
       "      <td>Yes</td>\n",
       "      <td>Yes</td>\n",
       "      <td>Yes</td>\n",
       "      <td>Yes</td>\n",
       "      <td>No</td>\n",
       "      <td>No</td>\n",
       "      <td>NaN</td>\n",
       "    </tr>\n",
       "    <tr>\n",
       "      <th>3</th>\n",
       "      <td>2014-08-27 11:29:46</td>\n",
       "      <td>31</td>\n",
       "      <td>Male</td>\n",
       "      <td>United Kingdom</td>\n",
       "      <td>NaN</td>\n",
       "      <td>NaN</td>\n",
       "      <td>Yes</td>\n",
       "      <td>Yes</td>\n",
       "      <td>Often</td>\n",
       "      <td>26-100</td>\n",
       "      <td>...</td>\n",
       "      <td>Somewhat difficult</td>\n",
       "      <td>Yes</td>\n",
       "      <td>Yes</td>\n",
       "      <td>Some of them</td>\n",
       "      <td>No</td>\n",
       "      <td>Maybe</td>\n",
       "      <td>Maybe</td>\n",
       "      <td>No</td>\n",
       "      <td>Yes</td>\n",
       "      <td>NaN</td>\n",
       "    </tr>\n",
       "    <tr>\n",
       "      <th>4</th>\n",
       "      <td>2014-08-27 11:30:22</td>\n",
       "      <td>31</td>\n",
       "      <td>Male</td>\n",
       "      <td>United States</td>\n",
       "      <td>TX</td>\n",
       "      <td>NaN</td>\n",
       "      <td>No</td>\n",
       "      <td>No</td>\n",
       "      <td>Never</td>\n",
       "      <td>100-500</td>\n",
       "      <td>...</td>\n",
       "      <td>Don't know</td>\n",
       "      <td>No</td>\n",
       "      <td>No</td>\n",
       "      <td>Some of them</td>\n",
       "      <td>Yes</td>\n",
       "      <td>Yes</td>\n",
       "      <td>Yes</td>\n",
       "      <td>Don't know</td>\n",
       "      <td>No</td>\n",
       "      <td>NaN</td>\n",
       "    </tr>\n",
       "  </tbody>\n",
       "</table>\n",
       "<p>5 rows × 27 columns</p>\n",
       "</div>"
      ],
      "text/plain": [
       "             Timestamp  Age  Gender         Country state self_employed   \n",
       "0  2014-08-27 11:29:31   37  Female   United States    IL           NaN  \\\n",
       "1  2014-08-27 11:29:37   44       M   United States    IN           NaN   \n",
       "2  2014-08-27 11:29:44   32    Male          Canada   NaN           NaN   \n",
       "3  2014-08-27 11:29:46   31    Male  United Kingdom   NaN           NaN   \n",
       "4  2014-08-27 11:30:22   31    Male   United States    TX           NaN   \n",
       "\n",
       "  family_history treatment work_interfere    no_employees  ...   \n",
       "0             No       Yes          Often            6-25  ...  \\\n",
       "1             No        No         Rarely  More than 1000  ...   \n",
       "2             No        No         Rarely            6-25  ...   \n",
       "3            Yes       Yes          Often          26-100  ...   \n",
       "4             No        No          Never         100-500  ...   \n",
       "\n",
       "                leave mental_health_consequence phys_health_consequence   \n",
       "0       Somewhat easy                        No                      No  \\\n",
       "1          Don't know                     Maybe                      No   \n",
       "2  Somewhat difficult                        No                      No   \n",
       "3  Somewhat difficult                       Yes                     Yes   \n",
       "4          Don't know                        No                      No   \n",
       "\n",
       "      coworkers supervisor mental_health_interview phys_health_interview   \n",
       "0  Some of them        Yes                      No                 Maybe  \\\n",
       "1            No         No                      No                    No   \n",
       "2           Yes        Yes                     Yes                   Yes   \n",
       "3  Some of them         No                   Maybe                 Maybe   \n",
       "4  Some of them        Yes                     Yes                   Yes   \n",
       "\n",
       "  mental_vs_physical obs_consequence comments  \n",
       "0                Yes              No      NaN  \n",
       "1         Don't know              No      NaN  \n",
       "2                 No              No      NaN  \n",
       "3                 No             Yes      NaN  \n",
       "4         Don't know              No      NaN  \n",
       "\n",
       "[5 rows x 27 columns]"
      ]
     },
     "execution_count": 2,
     "metadata": {},
     "output_type": "execute_result"
    }
   ],
   "source": [
    "# Read CSV file from Resources folder into Pandas DataFrame\n",
    "file = Path('./Resources_sdt/survey.csv')\n",
    "survey_df = pd.read_csv(file)\n",
    "\n",
    "# Review DataFrame\n",
    "survey_df.head()"
   ]
  },
  {
   "cell_type": "code",
   "execution_count": 3,
   "metadata": {},
   "outputs": [],
   "source": [
    "# Dropping 'comments' column due to limited value-added data and droppint 'Timestamp' because the entire dataset is for 2014\n",
    "# Adding option to drop 'state' to look at the dataset globally and due to the NaN values -- can comment out and rerun\n",
    "survey_df.drop(columns=['comments', 'Timestamp'], inplace=True)\n",
    "survey_df.drop(columns=['state'], inplace=True)"
   ]
  },
  {
   "cell_type": "code",
   "execution_count": 4,
   "metadata": {},
   "outputs": [
    {
     "name": "stdout",
     "output_type": "stream",
     "text": [
      "<class 'pandas.core.frame.DataFrame'>\n",
      "RangeIndex: 1259 entries, 0 to 1258\n",
      "Data columns (total 24 columns):\n",
      " #   Column                     Non-Null Count  Dtype \n",
      "---  ------                     --------------  ----- \n",
      " 0   Age                        1259 non-null   int64 \n",
      " 1   Gender                     1259 non-null   object\n",
      " 2   Country                    1259 non-null   object\n",
      " 3   self_employed              1241 non-null   object\n",
      " 4   family_history             1259 non-null   object\n",
      " 5   treatment                  1259 non-null   object\n",
      " 6   work_interfere             995 non-null    object\n",
      " 7   no_employees               1259 non-null   object\n",
      " 8   remote_work                1259 non-null   object\n",
      " 9   tech_company               1259 non-null   object\n",
      " 10  benefits                   1259 non-null   object\n",
      " 11  care_options               1259 non-null   object\n",
      " 12  wellness_program           1259 non-null   object\n",
      " 13  seek_help                  1259 non-null   object\n",
      " 14  anonymity                  1259 non-null   object\n",
      " 15  leave                      1259 non-null   object\n",
      " 16  mental_health_consequence  1259 non-null   object\n",
      " 17  phys_health_consequence    1259 non-null   object\n",
      " 18  coworkers                  1259 non-null   object\n",
      " 19  supervisor                 1259 non-null   object\n",
      " 20  mental_health_interview    1259 non-null   object\n",
      " 21  phys_health_interview      1259 non-null   object\n",
      " 22  mental_vs_physical         1259 non-null   object\n",
      " 23  obs_consequence            1259 non-null   object\n",
      "dtypes: int64(1), object(23)\n",
      "memory usage: 236.2+ KB\n"
     ]
    }
   ],
   "source": [
    "# Get DataFrame info\n",
    "survey_df.info()"
   ]
  },
  {
   "cell_type": "code",
   "execution_count": 5,
   "metadata": {},
   "outputs": [
    {
     "data": {
      "text/plain": [
       "Age                          53\n",
       "Gender                       49\n",
       "Country                      48\n",
       "self_employed                 2\n",
       "family_history                2\n",
       "treatment                     2\n",
       "work_interfere                4\n",
       "no_employees                  6\n",
       "remote_work                   2\n",
       "tech_company                  2\n",
       "benefits                      3\n",
       "care_options                  3\n",
       "wellness_program              3\n",
       "seek_help                     3\n",
       "anonymity                     3\n",
       "leave                         5\n",
       "mental_health_consequence     3\n",
       "phys_health_consequence       3\n",
       "coworkers                     3\n",
       "supervisor                    3\n",
       "mental_health_interview       3\n",
       "phys_health_interview         3\n",
       "mental_vs_physical            3\n",
       "obs_consequence               2\n",
       "dtype: int64"
      ]
     },
     "execution_count": 5,
     "metadata": {},
     "output_type": "execute_result"
    }
   ],
   "source": [
    "# Determine number of unique values in each column\n",
    "survey_df.nunique()"
   ]
  },
  {
   "cell_type": "markdown",
   "metadata": {},
   "source": [
    "## Count Countries\n",
    "Determine how many, and which, nations are in the dataset, and determine their prevalence."
   ]
  },
  {
   "cell_type": "code",
   "execution_count": null,
   "metadata": {},
   "outputs": [],
   "source": [
    "# Look at 'Country' value counts\n",
    "country_count = survey_df['Country'].value_counts()\n",
    "country_count"
   ]
  },
  {
   "cell_type": "markdown",
   "metadata": {},
   "source": [
    "## Gender Cleanup\n",
    "There were 49 unique genders listed. Some of these were because of input errors. Some are because of how the person represented themselves. Need to determine which they are to correct them."
   ]
  },
  {
   "cell_type": "code",
   "execution_count": null,
   "metadata": {},
   "outputs": [],
   "source": [
    "# Look at 'Gender' value counts\n",
    "gender_count = survey_df['Gender'].value_counts()\n",
    "gender_count"
   ]
  },
  {
   "cell_type": "code",
   "execution_count": null,
   "metadata": {},
   "outputs": [],
   "source": [
    "# total 'Gender'\n",
    "gender_column = survey_df['Gender'].count()\n",
    "gender_column"
   ]
  },
  {
   "cell_type": "code",
   "execution_count": null,
   "metadata": {},
   "outputs": [],
   "source": [
    "# There may have been misspellings in 'Gender' names and in some cases bogus answers. This is an attempt to cleanup the 'Gender' to form usable data.\n",
    "\n",
    "# Adding Category for 'Male'\n",
    "survey_df['Gender'].replace(['Male', 'male', 'M', 'm', 'Male ', 'Cis Male', 'cis male', 'Man', \n",
    "                            'Make', 'Mail', 'Cis Man', 'Guy (-ish) ^_^', 'Male-ish', 'maile', \n",
    "                            'Mal', 'Male (CIS)', 'msle', 'Malr'], 'Male', inplace=True)\n",
    "\n",
    "# Adding Category for 'Female'\n",
    "survey_df['Gender'].replace(['Female', 'female', 'F', 'f', 'Woman', 'Female ', 'Female (cis)', \n",
    "                            'cis-female/femme', 'femail', 'Cis Female', 'Femake', 'woman'], 'Female', inplace=True)\n",
    "\n",
    "# Adding Category for 'Other' -- Note: Other will include non-specific gender and trans\n",
    "survey_df['Gender'].replace(['Nah', 'All', 'fluid', 'Genderqueer', 'ostensibly male, unsure what that really means', \n",
    "                            'non-binary', 'Androgyne', 'Agender', 'Enby', 'p', 'Neuter', 'queer', 'Trans woman', \n",
    "                            'Female (trans)', 'male leaning androgynous', 'A little about you', 'Trans-female', \n",
    "                            'something kinda male?', 'queer/she/they'], 'Other', inplace=True)\n",
    "\n",
    "# Check the updated value counts\n",
    "gender_update = survey_df['Gender'].value_counts()\n",
    "gender_update"
   ]
  },
  {
   "cell_type": "code",
   "execution_count": null,
   "metadata": {},
   "outputs": [],
   "source": [
    "# check 'Gender' column count\n",
    "gender_column = survey_df['Gender'].count()\n",
    "gender_column"
   ]
  },
  {
   "cell_type": "markdown",
   "metadata": {},
   "source": [
    "## Check Age Ranges in Dataset\n",
    "Verify ages for authenticity."
   ]
  },
  {
   "cell_type": "code",
   "execution_count": 6,
   "metadata": {},
   "outputs": [
    {
     "data": {
      "text/plain": [
       "Age\n",
       " 29             85\n",
       " 32             82\n",
       " 26             75\n",
       " 27             71\n",
       " 33             70\n",
       " 28             68\n",
       " 31             67\n",
       " 34             65\n",
       " 30             63\n",
       " 25             61\n",
       " 35             55\n",
       " 23             51\n",
       " 24             46\n",
       " 37             43\n",
       " 38             39\n",
       " 36             37\n",
       " 40             33\n",
       " 39             33\n",
       " 43             28\n",
       " 22             21\n",
       " 41             21\n",
       " 42             20\n",
       " 21             16\n",
       " 45             12\n",
       " 46             12\n",
       " 44             11\n",
       " 19              9\n",
       " 18              7\n",
       " 48              6\n",
       " 50              6\n",
       " 20              6\n",
       " 51              5\n",
       " 49              4\n",
       " 56              4\n",
       " 57              3\n",
       " 54              3\n",
       " 55              3\n",
       " 47              2\n",
       " 60              2\n",
       " 99999999999     1\n",
       " 5               1\n",
       "-1               1\n",
       " 11              1\n",
       " 8               1\n",
       " 61              1\n",
       " 53              1\n",
       "-29              1\n",
       "-1726            1\n",
       " 65              1\n",
       " 62              1\n",
       " 58              1\n",
       " 329             1\n",
       " 72              1\n",
       "Name: count, dtype: int64"
      ]
     },
     "execution_count": 6,
     "metadata": {},
     "output_type": "execute_result"
    }
   ],
   "source": [
    "# Look at 'Age' value counts\n",
    "age_ranges = survey_df['Age'].value_counts()\n",
    "age_ranges"
   ]
  },
  {
   "cell_type": "code",
   "execution_count": null,
   "metadata": {},
   "outputs": [],
   "source": [
    "# total 'Age'\n",
    "age_column = survey_df['Age'].count()\n",
    "age_column"
   ]
  },
  {
   "cell_type": "code",
   "execution_count": 7,
   "metadata": {},
   "outputs": [
    {
     "data": {
      "text/plain": [
       "Age\n",
       "29     85\n",
       "32     82\n",
       "26     75\n",
       "27     71\n",
       "33     70\n",
       "28     68\n",
       "31     67\n",
       "34     65\n",
       "30     63\n",
       "25     61\n",
       "35     55\n",
       "23     51\n",
       "24     46\n",
       "37     43\n",
       "38     39\n",
       "36     37\n",
       "40     33\n",
       "39     33\n",
       "43     28\n",
       "22     21\n",
       "41     21\n",
       "42     20\n",
       "21     16\n",
       "45     12\n",
       "46     12\n",
       "44     11\n",
       "19      9\n",
       "18      7\n",
       "50      6\n",
       "48      6\n",
       "20      6\n",
       "404     5\n",
       "51      5\n",
       "56      4\n",
       "49      4\n",
       "54      3\n",
       "55      3\n",
       "57      3\n",
       "47      2\n",
       "60      2\n",
       "62      1\n",
       "58      1\n",
       "65      1\n",
       "5       1\n",
       "53      1\n",
       "61      1\n",
       "8       1\n",
       "11      1\n",
       "72      1\n",
       "Name: count, dtype: int64"
      ]
     },
     "execution_count": 7,
     "metadata": {},
     "output_type": "execute_result"
    }
   ],
   "source": [
    "# Several answers for 'Age' were given with incorrect or bogus values. This is an attempt to retain the data.\n",
    "\n",
    "# Convert the 'Age' column to numeric\n",
    "survey_df['Age'] = pd.to_numeric(survey_df['Age'], errors='coerce')\n",
    "\n",
    "# Then replace any ages less than 0 OR greater than 99 with 'Other'\n",
    "survey_df.loc[(survey_df['Age'] < 0) | (survey_df['Age'] > 99), 'Age'] = 404\n",
    "\n",
    "# Check the updated value counts\n",
    "age_update = survey_df['Age'].value_counts()\n",
    "age_update"
   ]
  },
  {
   "cell_type": "code",
   "execution_count": 8,
   "metadata": {},
   "outputs": [
    {
     "data": {
      "text/plain": [
       "1259"
      ]
     },
     "execution_count": 8,
     "metadata": {},
     "output_type": "execute_result"
    }
   ],
   "source": [
    "# check 'Age' column count\n",
    "age_column = survey_df['Age'].count()\n",
    "age_column"
   ]
  },
  {
   "cell_type": "code",
   "execution_count": 9,
   "metadata": {},
   "outputs": [
    {
     "data": {
      "text/plain": [
       "age_range\n",
       "26-35    701\n",
       "36-50    307\n",
       "19-25    210\n",
       "51-65     25\n",
       "0-18      10\n",
       "Other      5\n",
       "65+        1\n",
       "Name: count, dtype: int64"
      ]
     },
     "execution_count": 9,
     "metadata": {},
     "output_type": "execute_result"
    }
   ],
   "source": [
    "# ----------------------------------------------\n",
    "\n",
    "\n",
    "# Convert the 'Age' column to numeric\n",
    "survey_df['Age'] = pd.to_numeric(survey_df['Age'], errors='coerce')\n",
    "\n",
    "# Create a new column 'age_range' that contains the age range for each individual\n",
    "survey_df['age_range'] = pd.cut(survey_df['Age'], bins=[0, 18, 25, 35, 50, 65, 100, 405], labels=['0-18', '19-25', '26-35', '36-50', '51-65', '65+', 'Other'])\n",
    "\n",
    "# Check to make sure binning was successful\n",
    "survey_df['age_range'].value_counts(dropna=False)"
   ]
  },
  {
   "cell_type": "code",
   "execution_count": 10,
   "metadata": {},
   "outputs": [
    {
     "data": {
      "text/plain": [
       "1259"
      ]
     },
     "execution_count": 10,
     "metadata": {},
     "output_type": "execute_result"
    }
   ],
   "source": [
    "# check NEW 'age_range' column count\n",
    "age_column = survey_df['age_range'].count()\n",
    "age_column"
   ]
  },
  {
   "cell_type": "markdown",
   "metadata": {},
   "source": [
    "## Survey Data\n",
    "The contains either Yes/No or short answers for the general survey questions."
   ]
  },
  {
   "cell_type": "code",
   "execution_count": null,
   "metadata": {},
   "outputs": [],
   "source": [
    "# Look at 'self_employed' value counts\n",
    "self_emp_count = survey_df['self_employed'].value_counts()\n",
    "self_emp_count"
   ]
  },
  {
   "cell_type": "code",
   "execution_count": null,
   "metadata": {},
   "outputs": [],
   "source": [
    "# total 'self_employed'\n",
    "self_emp_column = survey_df['self_employed'].count()\n",
    "self_emp_column"
   ]
  },
  {
   "cell_type": "code",
   "execution_count": null,
   "metadata": {},
   "outputs": [],
   "source": [
    "# Look at 'family_history' value counts\n",
    "fam_history_count = survey_df['family_history'].value_counts()\n",
    "fam_history_count"
   ]
  },
  {
   "cell_type": "code",
   "execution_count": null,
   "metadata": {},
   "outputs": [],
   "source": [
    "# total 'family_history'\n",
    "fam_history_column = survey_df['family_history'].count()\n",
    "fam_history_column"
   ]
  },
  {
   "cell_type": "code",
   "execution_count": null,
   "metadata": {},
   "outputs": [],
   "source": [
    "# Look at 'treatment' value counts\n",
    "treatment_count = survey_df['treatment'].value_counts()\n",
    "treatment_count"
   ]
  },
  {
   "cell_type": "code",
   "execution_count": null,
   "metadata": {},
   "outputs": [],
   "source": [
    "# total look for 'treatment'\n",
    "treatment_column = survey_df['treatment'].count()\n",
    "treatment_column"
   ]
  },
  {
   "cell_type": "code",
   "execution_count": null,
   "metadata": {},
   "outputs": [],
   "source": [
    "# Look at 'work_interfere' value counts\n",
    "work_inter_count = survey_df['work_interfere'].value_counts()\n",
    "work_inter_count"
   ]
  },
  {
   "cell_type": "code",
   "execution_count": null,
   "metadata": {},
   "outputs": [],
   "source": [
    "# total 'work_interfere'\n",
    "work_inter_column = survey_df['work_interfere'].count()\n",
    "work_inter_column"
   ]
  },
  {
   "cell_type": "code",
   "execution_count": 11,
   "metadata": {},
   "outputs": [
    {
     "name": "stdout",
     "output_type": "stream",
     "text": [
      "<class 'pandas.core.frame.DataFrame'>\n",
      "RangeIndex: 1259 entries, 0 to 1258\n",
      "Data columns (total 25 columns):\n",
      " #   Column                     Non-Null Count  Dtype   \n",
      "---  ------                     --------------  -----   \n",
      " 0   Age                        1259 non-null   int64   \n",
      " 1   Gender                     1259 non-null   object  \n",
      " 2   Country                    1259 non-null   object  \n",
      " 3   self_employed              1259 non-null   object  \n",
      " 4   family_history             1259 non-null   object  \n",
      " 5   treatment                  1259 non-null   object  \n",
      " 6   work_interfere             1259 non-null   object  \n",
      " 7   no_employees               1259 non-null   object  \n",
      " 8   remote_work                1259 non-null   object  \n",
      " 9   tech_company               1259 non-null   object  \n",
      " 10  benefits                   1259 non-null   object  \n",
      " 11  care_options               1259 non-null   object  \n",
      " 12  wellness_program           1259 non-null   object  \n",
      " 13  seek_help                  1259 non-null   object  \n",
      " 14  anonymity                  1259 non-null   object  \n",
      " 15  leave                      1259 non-null   object  \n",
      " 16  mental_health_consequence  1259 non-null   object  \n",
      " 17  phys_health_consequence    1259 non-null   object  \n",
      " 18  coworkers                  1259 non-null   object  \n",
      " 19  supervisor                 1259 non-null   object  \n",
      " 20  mental_health_interview    1259 non-null   object  \n",
      " 21  phys_health_interview      1259 non-null   object  \n",
      " 22  mental_vs_physical         1259 non-null   object  \n",
      " 23  obs_consequence            1259 non-null   object  \n",
      " 24  age_range                  1259 non-null   category\n",
      "dtypes: category(1), int64(1), object(23)\n",
      "memory usage: 237.8+ KB\n"
     ]
    }
   ],
   "source": [
    "# Replacing the NaN in the 'self_employed' and 'work_interfere' to a 'no' answer, assuming a non-answer means \"No\".\n",
    "survey_df = survey_df.fillna({'self_employed': 'No',\n",
    "                            'work_interfere': 'Never'})\n",
    "\n",
    "survey_df.info()"
   ]
  },
  {
   "cell_type": "code",
   "execution_count": null,
   "metadata": {},
   "outputs": [],
   "source": [
    "a_count = "
   ]
  },
  {
   "cell_type": "code",
   "execution_count": null,
   "metadata": {},
   "outputs": [],
   "source": [
    "# recheck 'self_employed' value counts\n",
    "self_emp_count = survey_df['self_employed'].value_counts()\n",
    "self_emp_count"
   ]
  },
  {
   "cell_type": "code",
   "execution_count": null,
   "metadata": {},
   "outputs": [],
   "source": [
    "# recheck 'work_interfere' value counts\n",
    "work_inter_count = survey_df['work_interfere'].value_counts()\n",
    "work_inter_count"
   ]
  },
  {
   "cell_type": "code",
   "execution_count": null,
   "metadata": {},
   "outputs": [],
   "source": [
    "# Look at 'no_employess' value counts\n",
    "employees_count = survey_df['no_employees'].value_counts()\n",
    "employees_count"
   ]
  },
  {
   "cell_type": "code",
   "execution_count": null,
   "metadata": {},
   "outputs": [],
   "source": [
    "# total 'no_employess'\n",
    "employees_column = survey_df['no_employees'].count()\n",
    "employees_column"
   ]
  },
  {
   "cell_type": "code",
   "execution_count": null,
   "metadata": {},
   "outputs": [],
   "source": [
    "# Look at 'remote_work' value counts\n",
    "remote_work_count = survey_df['remote_work'].value_counts()\n",
    "remote_work_count"
   ]
  },
  {
   "cell_type": "code",
   "execution_count": null,
   "metadata": {},
   "outputs": [],
   "source": [
    "# total 'remote_work'\n",
    "remote_work_column = survey_df['remote_work'].count()\n",
    "remote_work_column"
   ]
  },
  {
   "cell_type": "code",
   "execution_count": null,
   "metadata": {},
   "outputs": [],
   "source": [
    "# Look at 'tech_company' value counts\n",
    "tech_co_count = survey_df['tech_company'].value_counts()\n",
    "tech_co_count"
   ]
  },
  {
   "cell_type": "code",
   "execution_count": null,
   "metadata": {},
   "outputs": [],
   "source": [
    "# total 'tech_company'\n",
    "tech_co_column = survey_df['tech_company'].count()\n",
    "tech_co_column"
   ]
  },
  {
   "cell_type": "code",
   "execution_count": null,
   "metadata": {},
   "outputs": [],
   "source": [
    "# Look at 'benefits' value counts\n",
    "benefits_count = survey_df['benefits'].value_counts()\n",
    "benefits_count"
   ]
  },
  {
   "cell_type": "code",
   "execution_count": null,
   "metadata": {},
   "outputs": [],
   "source": [
    "# total 'benefits'\n",
    "benefits_column = survey_df['benefits'].count()\n",
    "benefits_column"
   ]
  },
  {
   "cell_type": "code",
   "execution_count": null,
   "metadata": {},
   "outputs": [],
   "source": [
    "# Look at 'care_options' value counts\n",
    "care_opt_count = survey_df['care_options'].value_counts()\n",
    "care_opt_count"
   ]
  },
  {
   "cell_type": "code",
   "execution_count": null,
   "metadata": {},
   "outputs": [],
   "source": [
    "# total 'care_options'\n",
    "care_opt_column = survey_df['care_options'].count()\n",
    "care_opt_column"
   ]
  },
  {
   "cell_type": "code",
   "execution_count": null,
   "metadata": {},
   "outputs": [],
   "source": [
    "# Look at 'wellness_program' value counts\n",
    "well_prog_count = survey_df['wellness_program'].value_counts()\n",
    "well_prog_count"
   ]
  },
  {
   "cell_type": "code",
   "execution_count": null,
   "metadata": {},
   "outputs": [],
   "source": [
    "# total 'wellness_program'\n",
    "well_prog_column = survey_df['wellness_program'].count()\n",
    "well_prog_column"
   ]
  },
  {
   "cell_type": "code",
   "execution_count": null,
   "metadata": {},
   "outputs": [],
   "source": [
    "# Look at 'seek_help' value counts\n",
    "help_count = survey_df['seek_help'].value_counts()\n",
    "help_count"
   ]
  },
  {
   "cell_type": "code",
   "execution_count": null,
   "metadata": {},
   "outputs": [],
   "source": [
    "# total 'seek_help'\n",
    "help_column = survey_df['seek_help'].count()\n",
    "help_column"
   ]
  },
  {
   "cell_type": "code",
   "execution_count": null,
   "metadata": {},
   "outputs": [],
   "source": [
    "# Look at 'anonymity' value counts\n",
    "anon_count = survey_df['anonymity'].value_counts()\n",
    "anon_count"
   ]
  },
  {
   "cell_type": "code",
   "execution_count": null,
   "metadata": {},
   "outputs": [],
   "source": [
    "# total 'anonymity'\n",
    "anon_column = survey_df['anonymity'].count()\n",
    "anon_column"
   ]
  },
  {
   "cell_type": "code",
   "execution_count": null,
   "metadata": {},
   "outputs": [],
   "source": [
    "# Look at 'leave' value counts\n",
    "leave_count = survey_df['leave'].value_counts()\n",
    "leave_count"
   ]
  },
  {
   "cell_type": "code",
   "execution_count": null,
   "metadata": {},
   "outputs": [],
   "source": [
    "# total 'leave'\n",
    "leave_column = survey_df['leave'].count()\n",
    "leave_column"
   ]
  },
  {
   "cell_type": "code",
   "execution_count": null,
   "metadata": {},
   "outputs": [],
   "source": [
    "# Look at 'mental_health_consequence' value counts\n",
    "mental_health_conseq = survey_df['mental_health_consequence'].value_counts()\n",
    "mental_health_conseq"
   ]
  },
  {
   "cell_type": "code",
   "execution_count": null,
   "metadata": {},
   "outputs": [],
   "source": [
    "# total 'mental_health_consequence'\n",
    "mental_health_conseq_tl = survey_df['mental_health_consequence'].count()\n",
    "mental_health_conseq_tl"
   ]
  },
  {
   "cell_type": "code",
   "execution_count": null,
   "metadata": {},
   "outputs": [],
   "source": [
    "# Look at 'phys_health_consequence' value counts\n",
    "phys_health_conseq = survey_df['phys_health_consequence'].value_counts()\n",
    "phys_health_conseq"
   ]
  },
  {
   "cell_type": "code",
   "execution_count": null,
   "metadata": {},
   "outputs": [],
   "source": [
    "# total 'phys_health_consequence'\n",
    "phys_health_conseq_tl = survey_df['phys_health_consequence'].count()\n",
    "phys_health_conseq_tl"
   ]
  },
  {
   "cell_type": "code",
   "execution_count": null,
   "metadata": {},
   "outputs": [],
   "source": [
    "# Look at 'coworkers' value counts\n",
    "coworker_trust = survey_df['coworkers'].value_counts()\n",
    "coworker_trust"
   ]
  },
  {
   "cell_type": "code",
   "execution_count": null,
   "metadata": {},
   "outputs": [],
   "source": [
    "# total 'coworkers'\n",
    "coworker_trust_tl = survey_df['coworkers'].count()\n",
    "coworker_trust_tl"
   ]
  },
  {
   "cell_type": "code",
   "execution_count": null,
   "metadata": {},
   "outputs": [],
   "source": [
    "# Look at 'supervisor' value counts\n",
    "supervisor_trust = survey_df['supervisor'].value_counts()\n",
    "supervisor_trust"
   ]
  },
  {
   "cell_type": "code",
   "execution_count": null,
   "metadata": {},
   "outputs": [],
   "source": [
    "# total 'supervisor'\n",
    "supervisor_trust_tl = survey_df['supervisor'].count()\n",
    "supervisor_trust_tl"
   ]
  },
  {
   "cell_type": "code",
   "execution_count": null,
   "metadata": {},
   "outputs": [],
   "source": [
    "# Look at 'mental_health_interview' value counts\n",
    "mental_health_int = survey_df['mental_health_interview'].value_counts()\n",
    "mental_health_int"
   ]
  },
  {
   "cell_type": "code",
   "execution_count": null,
   "metadata": {},
   "outputs": [],
   "source": [
    "# total 'mental_health_interview'\n",
    "mental_health_int_tl = survey_df['mental_health_interview'].count()\n",
    "mental_health_int_tl"
   ]
  },
  {
   "cell_type": "code",
   "execution_count": null,
   "metadata": {},
   "outputs": [],
   "source": [
    "# Look at 'phys_health_interview' value counts\n",
    "phys_health_int = survey_df['phys_health_interview'].value_counts()\n",
    "phys_health_int"
   ]
  },
  {
   "cell_type": "code",
   "execution_count": null,
   "metadata": {},
   "outputs": [],
   "source": [
    "# total 'phys_health_interview'\n",
    "phys_health_int_tl = survey_df['phys_health_interview'].count()\n",
    "phys_health_int_tl"
   ]
  },
  {
   "cell_type": "code",
   "execution_count": null,
   "metadata": {},
   "outputs": [],
   "source": [
    "# Look at 'mental_vs_physical' value counts\n",
    "mental_vs_phys = survey_df['mental_vs_physical'].value_counts()\n",
    "mental_vs_phys"
   ]
  },
  {
   "cell_type": "code",
   "execution_count": null,
   "metadata": {},
   "outputs": [],
   "source": [
    "# total 'mental_vs_physical'\n",
    "mental_vs_phys_tl = survey_df['mental_vs_physical'].count()\n",
    "mental_vs_phys_tl"
   ]
  },
  {
   "cell_type": "code",
   "execution_count": null,
   "metadata": {},
   "outputs": [],
   "source": [
    "# Look at 'obs_consequence' value counts\n",
    "obs_conseq = survey_df['obs_consequence'].value_counts()\n",
    "obs_conseq"
   ]
  },
  {
   "cell_type": "code",
   "execution_count": null,
   "metadata": {},
   "outputs": [],
   "source": [
    "# total 'obs_consequence'\n",
    "obs_conseq_tl = survey_df['obs_consequence'].count()\n",
    "obs_conseq_tl"
   ]
  },
  {
   "cell_type": "code",
   "execution_count": null,
   "metadata": {},
   "outputs": [],
   "source": [
    "# Preview updated DataFrame\n",
    "survey_df.head()"
   ]
  }
 ],
 "metadata": {
  "kernelspec": {
   "display_name": "base",
   "language": "python",
   "name": "python3"
  },
  "language_info": {
   "codemirror_mode": {
    "name": "ipython",
    "version": 3
   },
   "file_extension": ".py",
   "mimetype": "text/x-python",
   "name": "python",
   "nbconvert_exporter": "python",
   "pygments_lexer": "ipython3",
   "version": "3.9.13"
  },
  "orig_nbformat": 4
 },
 "nbformat": 4,
 "nbformat_minor": 2
}
