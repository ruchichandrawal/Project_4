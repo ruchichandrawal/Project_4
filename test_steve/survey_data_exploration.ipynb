{
 "cells": [
  {
   "cell_type": "code",
   "execution_count": null,
   "metadata": {},
   "outputs": [],
   "source": [
    "# Import Dependencies\n",
    "import pandas as pd \n",
    "import numpy as np\n",
    "from pathlib import Path\n",
    "import matplotlib.pyplot as plt\n",
    "\n",
    "from sklearn.model_selection import train_test_split\n",
    "from sklearn.preprocessing import StandardScaler\n",
    "from sklearn.metrics import accuracy_score, confusion_matrix, classification_report\n",
    "\n",
    "# import tensorflow as tf"
   ]
  },
  {
   "cell_type": "code",
   "execution_count": null,
   "metadata": {},
   "outputs": [],
   "source": [
    "# Read CSV file from Resources folder into Pandas DataFrame\n",
    "file = Path('./Resources_sdt/survey.csv')\n",
    "survey_df = pd.read_csv(file)\n",
    "\n",
    "# Review DataFrame\n",
    "survey_df.head()"
   ]
  },
  {
   "cell_type": "code",
   "execution_count": null,
   "metadata": {},
   "outputs": [],
   "source": [
    "# Dropping 'comments' column due to limited value-added data and droppint 'Timestamp' because the entire dataset is for 2014\n",
    "# Adding option to drop 'state' to look at the dataset globally and due to the NaN values -- can comment out and rerun\n",
    "survey_df.drop(columns=['comments', 'Timestamp'], inplace=True)\n",
    "survey_df.drop(columns=['state'], inplace=True)"
   ]
  },
  {
   "cell_type": "code",
   "execution_count": null,
   "metadata": {},
   "outputs": [],
   "source": [
    "# Get DataFrame info\n",
    "survey_df.info()"
   ]
  },
  {
   "cell_type": "code",
   "execution_count": null,
   "metadata": {},
   "outputs": [],
   "source": [
    "# Determine number of unique values in each column\n",
    "survey_df.nunique()"
   ]
  },
  {
   "cell_type": "markdown",
   "metadata": {},
   "source": [
    "## Count Countries\n",
    "Determine how many, and which, nations are in the dataset, and determine their prevalence."
   ]
  },
  {
   "cell_type": "code",
   "execution_count": null,
   "metadata": {},
   "outputs": [],
   "source": [
    "# Look at 'Country' value counts\n",
    "country_count = survey_df['Country'].value_counts()\n",
    "country_count"
   ]
  },
  {
   "cell_type": "markdown",
   "metadata": {},
   "source": [
    "## Gender Cleanup\n",
    "There were 49 unique genders listed. Some of these were because of input errors. Some are because of how the person represented themselves. Need to determine which they are to correct them."
   ]
  },
  {
   "cell_type": "code",
   "execution_count": null,
   "metadata": {},
   "outputs": [],
   "source": [
    "# Look at 'Gender' value counts\n",
    "gender_count = survey_df['Gender'].value_counts()\n",
    "gender_count"
   ]
  },
  {
   "cell_type": "code",
   "execution_count": null,
   "metadata": {},
   "outputs": [],
   "source": [
    "# total 'Gender'\n",
    "gender_column = survey_df['Gender'].count()\n",
    "gender_column"
   ]
  },
  {
   "cell_type": "code",
   "execution_count": null,
   "metadata": {},
   "outputs": [],
   "source": [
    "# There may have been misspellings in 'Gender' names and in some cases bogus answers. This is an attempt to cleanup the 'Gender' to form usable data.\n",
    "\n",
    "# Adding Category for 'Male'\n",
    "survey_df['Gender'].replace(['Male', 'male', 'M', 'm', 'Male ', 'Cis Male', 'cis male', 'Man', \n",
    "                            'Make', 'Mail', 'Cis Man', 'Guy (-ish) ^_^', 'Male-ish', 'maile', \n",
    "                            'Mal', 'Male (CIS)', 'msle', 'Malr'], 'Male', inplace=True)\n",
    "\n",
    "# Adding Category for 'Female'\n",
    "survey_df['Gender'].replace(['Female', 'female', 'F', 'f', 'Woman', 'Female ', 'Female (cis)', \n",
    "                            'cis-female/femme', 'femail', 'Cis Female', 'Femake', 'woman'], 'Female', inplace=True)\n",
    "\n",
    "# Adding Category for 'Other' -- Note: Other will include non-specific gender and trans\n",
    "survey_df['Gender'].replace(['Nah', 'All', 'fluid', 'Genderqueer', 'ostensibly male, unsure what that really means', \n",
    "                            'non-binary', 'Androgyne', 'Agender', 'Enby', 'p', 'Neuter', 'queer', 'Trans woman', \n",
    "                            'Female (trans)', 'male leaning androgynous', 'A little about you', 'Trans-female', \n",
    "                            'something kinda male?', 'queer/she/they'], 'Other', inplace=True)\n",
    "\n",
    "# Check the updated value counts\n",
    "gender_update = survey_df['Gender'].value_counts()\n",
    "gender_update"
   ]
  },
  {
   "cell_type": "code",
   "execution_count": null,
   "metadata": {},
   "outputs": [],
   "source": [
    "# check 'Gender' column count\n",
    "gender_column = survey_df['Gender'].count()\n",
    "gender_column"
   ]
  },
  {
   "cell_type": "markdown",
   "metadata": {},
   "source": [
    "## Check Age Ranges in Dataset\n",
    "Verify ages for authenticity."
   ]
  },
  {
   "cell_type": "code",
   "execution_count": null,
   "metadata": {},
   "outputs": [],
   "source": [
    "# Look at 'Age' value counts\n",
    "age_ranges = survey_df['Age'].value_counts()\n",
    "age_ranges"
   ]
  },
  {
   "cell_type": "code",
   "execution_count": null,
   "metadata": {},
   "outputs": [],
   "source": [
    "# total 'Age'\n",
    "age_column = survey_df['Age'].count()\n",
    "age_column"
   ]
  },
  {
   "cell_type": "code",
   "execution_count": null,
   "metadata": {},
   "outputs": [],
   "source": [
    "# Several answers for 'Age' were given with incorrect or bogus values. This is an attempt to retain the data.\n",
    "\n",
    "# Convert the 'Age' column to numeric\n",
    "survey_df['Age'] = pd.to_numeric(survey_df['Age'], errors='coerce')\n",
    "\n",
    "# Then replace any ages less than 0 OR greater than 99 with 'Other'\n",
    "survey_df.loc[(survey_df['Age'] < 0) | (survey_df['Age'] > 99), 'Age'] = 'Other'\n",
    "\n",
    "# Check the updated value counts\n",
    "age_update = survey_df['Age'].value_counts()\n",
    "age_update"
   ]
  },
  {
   "cell_type": "code",
   "execution_count": null,
   "metadata": {},
   "outputs": [],
   "source": [
    "# check 'Age' column count\n",
    "age_column = survey_df['Age'].count()\n",
    "age_column"
   ]
  },
  {
   "cell_type": "code",
   "execution_count": null,
   "metadata": {},
   "outputs": [],
   "source": [
    "# Choose cutoff values and create a list of Age ranges to be replaced\n",
    "# create the `bin_#_replace`\n",
    "bin_1_replace = age_update[age_update < 20].index.tolist()\n",
    "bin_2_replace = age_update[age_update < 25].index.tolist()\n",
    "bin_3_replace = age_update[age_update < 30].index.tolist()\n",
    "bin_4_replace = age_update[age_update < 35].index.tolist()\n",
    "bin_5_replace = age_update[age_update < 40].index.tolist()\n",
    "bin_6_replace = age_update[age_update < 45].index.tolist()\n",
    "bin_7_replace = age_update[age_update > 50].index.tolist()\n",
    "bin_8_replace = age_update[age_update == 'Other'].index.tolist()\n",
    "\n",
    "# Replace in dataframe\n",
    "for one in bin_1_replace:\n",
    "    survey_df['Age'] = survey_df['Age'].replace(one,'1-19')\n",
    "\n",
    "for two in bin_2_replace:\n",
    "    survey_df['Age'] = survey_df['Age'].replace(two,'20-24')\n",
    "\n",
    "for thr in bin_3_replace:\n",
    "    survey_df['Age'] = survey_df['Age'].replace(thr,'25-29')\n",
    "\n",
    "for fou in bin_4_replace:\n",
    "    survey_df['Age'] = survey_df['Age'].replace(fou,'30-34')\n",
    "\n",
    "for fiv in bin_5_replace:\n",
    "    survey_df['Age'] = survey_df['Age'].replace(fiv,'40-44')\n",
    "\n",
    "for six in bin_6_replace:\n",
    "    survey_df['Age'] = survey_df['Age'].replace(six,'45-49')\n",
    "\n",
    "for sev in bin_7_replace:\n",
    "    survey_df['Age'] = survey_df['Age'].replace(sev,'50+')\n",
    "\n",
    "for egt in bin_8_replace:\n",
    "    survey_df['Age'] = survey_df['Age'].replace(egt,'Other')\n",
    "\n",
    "# Check to make sure binning was successful\n",
    "survey_df['Age'].value_counts()"
   ]
  },
  {
   "cell_type": "code",
   "execution_count": null,
   "metadata": {},
   "outputs": [],
   "source": [
    "# check 'Age' column count\n",
    "age_column = survey_df['Age'].count()\n",
    "age_column"
   ]
  },
  {
   "cell_type": "markdown",
   "metadata": {},
   "source": [
    "## Survey Data\n",
    "The contains either Yes/No or short answers for the general survey questions."
   ]
  },
  {
   "cell_type": "code",
   "execution_count": null,
   "metadata": {},
   "outputs": [],
   "source": [
    "# Look at 'self_employed' value counts\n",
    "self_emp_count = survey_df['self_employed'].value_counts()\n",
    "self_emp_count"
   ]
  },
  {
   "cell_type": "code",
   "execution_count": null,
   "metadata": {},
   "outputs": [],
   "source": [
    "# total 'self_employed'\n",
    "self_emp_column = survey_df['self_employed'].count()\n",
    "self_emp_column"
   ]
  },
  {
   "cell_type": "code",
   "execution_count": null,
   "metadata": {},
   "outputs": [],
   "source": [
    "# Look at 'family_history' value counts\n",
    "fam_history_count = survey_df['family_history'].value_counts()\n",
    "fam_history_count"
   ]
  },
  {
   "cell_type": "code",
   "execution_count": null,
   "metadata": {},
   "outputs": [],
   "source": [
    "# total 'family_history'\n",
    "fam_history_column = survey_df['family_history'].count()\n",
    "fam_history_column"
   ]
  },
  {
   "cell_type": "code",
   "execution_count": null,
   "metadata": {},
   "outputs": [],
   "source": [
    "# Look at 'treatment' value counts\n",
    "treatment_count = survey_df['treatment'].value_counts()\n",
    "treatment_count"
   ]
  },
  {
   "cell_type": "code",
   "execution_count": null,
   "metadata": {},
   "outputs": [],
   "source": [
    "# total look for 'treatment'\n",
    "treatment_column = survey_df['treatment'].count()\n",
    "treatment_column"
   ]
  },
  {
   "cell_type": "code",
   "execution_count": null,
   "metadata": {},
   "outputs": [],
   "source": [
    "# Look at 'work_interfere' value counts\n",
    "work_inter_count = survey_df['work_interfere'].value_counts()\n",
    "work_inter_count"
   ]
  },
  {
   "cell_type": "code",
   "execution_count": null,
   "metadata": {},
   "outputs": [],
   "source": [
    "# total 'work_interfere'\n",
    "work_inter_column = survey_df['work_interfere'].count()\n",
    "work_inter_column"
   ]
  },
  {
   "cell_type": "code",
   "execution_count": null,
   "metadata": {},
   "outputs": [],
   "source": [
    "# Replacing the NaN in the 'self_employed' and 'work_interfere' to a 'no' answer, assuming a non-answer means \"No\".\n",
    "survey_df = survey_df.fillna({'self_employed': 'No',\n",
    "                            'work_interfere': 'Never'})\n",
    "\n",
    "survey_df.info()"
   ]
  },
  {
   "cell_type": "code",
   "execution_count": null,
   "metadata": {},
   "outputs": [],
   "source": [
    "# recheck 'self_employed' value counts\n",
    "self_emp_count = survey_df['self_employed'].value_counts()\n",
    "self_emp_count"
   ]
  },
  {
   "cell_type": "code",
   "execution_count": null,
   "metadata": {},
   "outputs": [],
   "source": [
    "# recheck 'work_interfere' value counts\n",
    "work_inter_count = survey_df['work_interfere'].value_counts()\n",
    "work_inter_count"
   ]
  },
  {
   "cell_type": "code",
   "execution_count": null,
   "metadata": {},
   "outputs": [],
   "source": [
    "# Look at 'no_employess' value counts\n",
    "employees_count = survey_df['no_employees'].value_counts()\n",
    "employees_count"
   ]
  },
  {
   "cell_type": "code",
   "execution_count": null,
   "metadata": {},
   "outputs": [],
   "source": [
    "# total 'no_employess'\n",
    "employees_column = survey_df['no_employees'].count()\n",
    "employees_column"
   ]
  },
  {
   "cell_type": "code",
   "execution_count": null,
   "metadata": {},
   "outputs": [],
   "source": [
    "# Look at 'remote_work' value counts\n",
    "remote_work_count = survey_df['remote_work'].value_counts()\n",
    "remote_work_count"
   ]
  },
  {
   "cell_type": "code",
   "execution_count": null,
   "metadata": {},
   "outputs": [],
   "source": [
    "# total 'remote_work'\n",
    "remote_work_column = survey_df['remote_work'].count()\n",
    "remote_work_column"
   ]
  },
  {
   "cell_type": "code",
   "execution_count": null,
   "metadata": {},
   "outputs": [],
   "source": [
    "# Look at 'tech_company' value counts\n",
    "tech_co_count = survey_df['tech_company'].value_counts()\n",
    "tech_co_count"
   ]
  },
  {
   "cell_type": "code",
   "execution_count": null,
   "metadata": {},
   "outputs": [],
   "source": [
    "# total 'tech_company'\n",
    "tech_co_column = survey_df['tech_company'].count()\n",
    "tech_co_column"
   ]
  },
  {
   "cell_type": "code",
   "execution_count": null,
   "metadata": {},
   "outputs": [],
   "source": [
    "# Look at 'benefits' value counts\n",
    "benefits_count = survey_df['benefits'].value_counts()\n",
    "benefits_count"
   ]
  },
  {
   "cell_type": "code",
   "execution_count": null,
   "metadata": {},
   "outputs": [],
   "source": [
    "# total 'benefits'\n",
    "benefits_column = survey_df['benefits'].count()\n",
    "benefits_column"
   ]
  },
  {
   "cell_type": "code",
   "execution_count": null,
   "metadata": {},
   "outputs": [],
   "source": [
    "# Look at 'care_options' value counts\n",
    "care_opt_count = survey_df['care_options'].value_counts()\n",
    "care_opt_count"
   ]
  },
  {
   "cell_type": "code",
   "execution_count": null,
   "metadata": {},
   "outputs": [],
   "source": [
    "# total 'care_options'\n",
    "care_opt_column = survey_df['care_options'].count()\n",
    "care_opt_column"
   ]
  },
  {
   "cell_type": "code",
   "execution_count": null,
   "metadata": {},
   "outputs": [],
   "source": [
    "# Look at 'wellness_program' value counts\n",
    "well_prog_count = survey_df['wellness_program'].value_counts()\n",
    "well_prog_count"
   ]
  },
  {
   "cell_type": "code",
   "execution_count": null,
   "metadata": {},
   "outputs": [],
   "source": [
    "# total 'wellness_program'\n",
    "well_prog_column = survey_df['wellness_program'].count()\n",
    "well_prog_column"
   ]
  },
  {
   "cell_type": "code",
   "execution_count": null,
   "metadata": {},
   "outputs": [],
   "source": [
    "# Look at 'seek_help' value counts\n",
    "help_count = survey_df['seek_help'].value_counts()\n",
    "help_count"
   ]
  },
  {
   "cell_type": "code",
   "execution_count": null,
   "metadata": {},
   "outputs": [],
   "source": [
    "# total 'seek_help'\n",
    "help_column = survey_df['seek_help'].count()\n",
    "help_column"
   ]
  },
  {
   "cell_type": "code",
   "execution_count": null,
   "metadata": {},
   "outputs": [],
   "source": [
    "# Look at 'anonymity' value counts\n",
    "anon_count = survey_df['anonymity'].value_counts()\n",
    "anon_count"
   ]
  },
  {
   "cell_type": "code",
   "execution_count": null,
   "metadata": {},
   "outputs": [],
   "source": [
    "# total 'anonymity'\n",
    "anon_column = survey_df['anonymity'].count()\n",
    "anon_column"
   ]
  },
  {
   "cell_type": "code",
   "execution_count": null,
   "metadata": {},
   "outputs": [],
   "source": [
    "# Look at 'leave' value counts\n",
    "leave_count = survey_df['leave'].value_counts()\n",
    "leave_count"
   ]
  },
  {
   "cell_type": "code",
   "execution_count": null,
   "metadata": {},
   "outputs": [],
   "source": [
    "# total 'leave'\n",
    "leave_column = survey_df['leave'].count()\n",
    "leave_column"
   ]
  },
  {
   "cell_type": "code",
   "execution_count": null,
   "metadata": {},
   "outputs": [],
   "source": [
    "# Look at 'mental_health_consequence' value counts\n",
    "mental_health_conseq = survey_df['mental_health_consequence'].value_counts()\n",
    "mental_health_conseq"
   ]
  },
  {
   "cell_type": "code",
   "execution_count": null,
   "metadata": {},
   "outputs": [],
   "source": [
    "# total 'mental_health_consequence'\n",
    "mental_health_conseq_tl = survey_df['mental_health_consequence'].count()\n",
    "mental_health_conseq_tl"
   ]
  },
  {
   "cell_type": "code",
   "execution_count": null,
   "metadata": {},
   "outputs": [],
   "source": [
    "# Look at 'phys_health_consequence' value counts\n",
    "phys_health_conseq = survey_df['phys_health_consequence'].value_counts()\n",
    "phys_health_conseq"
   ]
  },
  {
   "cell_type": "code",
   "execution_count": null,
   "metadata": {},
   "outputs": [],
   "source": [
    "# total 'phys_health_consequence'\n",
    "phys_health_conseq_tl = survey_df['phys_health_consequence'].count()\n",
    "phys_health_conseq_tl"
   ]
  },
  {
   "cell_type": "code",
   "execution_count": null,
   "metadata": {},
   "outputs": [],
   "source": [
    "# Look at 'coworkers' value counts\n",
    "coworker_trust = survey_df['coworkers'].value_counts()\n",
    "coworker_trust"
   ]
  },
  {
   "cell_type": "code",
   "execution_count": null,
   "metadata": {},
   "outputs": [],
   "source": [
    "# total 'coworkers'\n",
    "coworker_trust_tl = survey_df['coworkers'].count()\n",
    "coworker_trust_tl"
   ]
  },
  {
   "cell_type": "code",
   "execution_count": null,
   "metadata": {},
   "outputs": [],
   "source": [
    "# Look at 'supervisor' value counts\n",
    "supervisor_trust = survey_df['supervisor'].value_counts()\n",
    "supervisor_trust"
   ]
  },
  {
   "cell_type": "code",
   "execution_count": null,
   "metadata": {},
   "outputs": [],
   "source": [
    "# total 'supervisor'\n",
    "supervisor_trust_tl = survey_df['supervisor'].count()\n",
    "supervisor_trust_tl"
   ]
  },
  {
   "cell_type": "code",
   "execution_count": null,
   "metadata": {},
   "outputs": [],
   "source": [
    "# Look at 'mental_health_interview' value counts\n",
    "mental_health_int = survey_df['mental_health_interview'].value_counts()\n",
    "mental_health_int"
   ]
  },
  {
   "cell_type": "code",
   "execution_count": null,
   "metadata": {},
   "outputs": [],
   "source": [
    "# total 'mental_health_interview'\n",
    "mental_health_int_tl = survey_df['mental_health_interview'].count()\n",
    "mental_health_int_tl"
   ]
  },
  {
   "cell_type": "code",
   "execution_count": null,
   "metadata": {},
   "outputs": [],
   "source": [
    "# Look at 'phys_health_interview' value counts\n",
    "phys_health_int = survey_df['phys_health_interview'].value_counts()\n",
    "phys_health_int"
   ]
  },
  {
   "cell_type": "code",
   "execution_count": null,
   "metadata": {},
   "outputs": [],
   "source": [
    "# total 'phys_health_interview'\n",
    "phys_health_int_tl = survey_df['phys_health_interview'].count()\n",
    "phys_health_int_tl"
   ]
  },
  {
   "cell_type": "code",
   "execution_count": null,
   "metadata": {},
   "outputs": [],
   "source": [
    "# Look at 'mental_vs_physical' value counts\n",
    "mental_vs_phys = survey_df['mental_vs_physical'].value_counts()\n",
    "mental_vs_phys"
   ]
  },
  {
   "cell_type": "code",
   "execution_count": null,
   "metadata": {},
   "outputs": [],
   "source": [
    "# total 'mental_vs_physical'\n",
    "mental_vs_phys_tl = survey_df['mental_vs_physical'].count()\n",
    "mental_vs_phys_tl"
   ]
  },
  {
   "cell_type": "code",
   "execution_count": null,
   "metadata": {},
   "outputs": [],
   "source": [
    "# Look at 'obs_consequence' value counts\n",
    "obs_conseq = survey_df['obs_consequence'].value_counts()\n",
    "obs_conseq"
   ]
  },
  {
   "cell_type": "code",
   "execution_count": null,
   "metadata": {},
   "outputs": [],
   "source": [
    "# total 'obs_consequence'\n",
    "obs_conseq_tl = survey_df['obs_consequence'].count()\n",
    "obs_conseq_tl"
   ]
  },
  {
   "cell_type": "code",
   "execution_count": null,
   "metadata": {},
   "outputs": [],
   "source": [
    "# Preview updated DataFrame\n",
    "survey_df.head()"
   ]
  }
 ],
 "metadata": {
  "kernelspec": {
   "display_name": "base",
   "language": "python",
   "name": "python3"
  },
  "language_info": {
   "codemirror_mode": {
    "name": "ipython",
    "version": 3
   },
   "file_extension": ".py",
   "mimetype": "text/x-python",
   "name": "python",
   "nbconvert_exporter": "python",
   "pygments_lexer": "ipython3",
   "version": "3.9.13"
  },
  "orig_nbformat": 4
 },
 "nbformat": 4,
 "nbformat_minor": 2
}
