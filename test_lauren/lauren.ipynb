{
 "cells": [
  {
   "cell_type": "code",
   "execution_count": null,
   "metadata": {},
   "outputs": [],
   "source": [
    "# Import Dependencies\n",
    "import pandas as pd \n",
    "import numpy as np\n",
    "from pathlib import Path\n",
    "import matplotlib.pyplot as plt\n",
    "\n",
    "from sklearn.model_selection import train_test_split\n",
    "from sklearn.preprocessing import StandardScaler\n",
    "from sklearn.metrics import accuracy_score, confusion_matrix, classification_report\n",
    "\n",
    "# import tensorflow as tf"
   ]
  },
  {
   "cell_type": "code",
   "execution_count": null,
   "metadata": {},
   "outputs": [],
   "source": [
    "# Read CSV file from Resources folder into Pandas DataFrame\n",
    "file = Path('./Resources_sdt/survey.csv')\n",
    "survey_df = pd.read_csv(file)\n",
    "\n",
    "# Review DataFrame\n",
    "survey_df.head()"
   ]
  },
  {
   "cell_type": "code",
   "execution_count": null,
   "metadata": {},
   "outputs": [],
   "source": [
    "# Get DataFrame info\n",
    "survey_df.info()"
   ]
  },
  {
   "cell_type": "code",
   "execution_count": null,
   "metadata": {},
   "outputs": [],
   "source": [
    "# Determine number of unique values in each column\n",
    "survey_df.nunique()"
   ]
  },
  {
   "cell_type": "markdown",
   "metadata": {},
   "source": [
    "## Check Age Ranges within the Dataset\n",
    "Verify ages for authenticity, clean data as needed."
   ]
  },
  {
   "cell_type": "code",
   "execution_count": null,
   "metadata": {},
   "outputs": [],
   "source": [
    "# Look at 'Age' value counts\n",
    "age_ranges = survey_df['Age'].value_counts()\n",
    "age_ranges"
   ]
  },
  {
   "cell_type": "code",
   "execution_count": null,
   "metadata": {},
   "outputs": [],
   "source": [
    "# Several answers for 'Age' were given with incorrect or bogus values. This is an attempt to retain the data.\n",
    "\n",
    "# Convert the 'Age' column to numeric\n",
    "survey_df['Age'] = pd.to_numeric(survey_df['Age'], errors='coerce')\n",
    "\n",
    "# Then replace any ages less than 0 OR greater than 99 with '404' to indicate an \"error\"\n",
    "survey_df.loc[(survey_df['Age'] < 0) | (survey_df['Age'] > 99), 'Age'] = 404\n",
    "\n",
    "# Check the updated value counts\n",
    "age_update = survey_df['Age'].value_counts()\n",
    "age_update"
   ]
  },
  {
   "cell_type": "code",
   "execution_count": null,
   "metadata": {},
   "outputs": [],
   "source": [
    "# check 'Age' column count\n",
    "age_column = survey_df['Age'].count()\n",
    "age_column"
   ]
  },
  {
   "cell_type": "code",
   "execution_count": null,
   "metadata": {},
   "outputs": [],
   "source": [
    "# Sort 'Age' column into age ranges then create new column\n",
    "# ----------------------------------------------\n",
    "# Convert the 'Age' column to numeric\n",
    "survey_df['Age'] = pd.to_numeric(survey_df['Age'], errors='coerce')\n",
    "\n",
    "# Create a new column 'age_range' that contains the age range for each individual\n",
    "survey_df['age_range'] = pd.cut(survey_df['Age'], bins=[0, 18, 25, 35, 50, 65, 100, 405], labels=['0-18', '19-25', '26-35', '36-50', '51-65', '65+', 'Other'])\n",
    "\n",
    "# Check to make sure binning was successful\n",
    "survey_df['age_range'].value_counts(dropna=False)"
   ]
  },
  {
   "cell_type": "code",
   "execution_count": null,
   "metadata": {},
   "outputs": [],
   "source": [
    "# check NEW 'age_range' column count\n",
    "age_column = survey_df['age_range'].count()\n",
    "age_column"
   ]
  },
  {
   "cell_type": "markdown",
   "metadata": {},
   "source": [
    "## Gender Column Cleanup\n",
    "There were 49 unique genders listed. Some of these were because of input errors. Some are because of how the person represented themselves. Need to determine which they are to correct them."
   ]
  },
  {
   "cell_type": "code",
   "execution_count": null,
   "metadata": {},
   "outputs": [],
   "source": [
    "# Look at 'Gender' value counts\n",
    "gender_count = survey_df['Gender'].value_counts()\n",
    "gender_count"
   ]
  },
  {
   "cell_type": "code",
   "execution_count": null,
   "metadata": {},
   "outputs": [],
   "source": [
    "# There may have been misspellings in 'Gender' names and in some cases bogus answers. This is an attempt to cleanup the 'Gender' to form usable data.\n",
    "\n",
    "# Adding Category for 'Male'\n",
    "survey_df['Gender'].replace(['Male', 'male', 'M', 'm', 'Male ', 'Cis Male', 'cis male', 'Man', \n",
    "                            'Make', 'Mail', 'Cis Man', 'Guy (-ish) ^_^', 'Male-ish', 'maile', \n",
    "                            'Mal', 'Male (CIS)', 'msle', 'Malr'], 'Male', inplace=True)\n",
    "\n",
    "# Adding Category for 'Female'\n",
    "survey_df['Gender'].replace(['Female', 'female', 'F', 'f', 'Woman', 'Female ', 'Female (cis)', \n",
    "                            'cis-female/femme', 'femail', 'Cis Female', 'Femake', 'woman'], 'Female', inplace=True)\n",
    "\n",
    "# Adding Category for 'Other' -- Note: Other will include non-specific gender and trans\n",
    "survey_df['Gender'].replace(['Nah', 'All', 'fluid', 'Genderqueer', 'ostensibly male, unsure what that really means', \n",
    "                            'non-binary', 'Androgyne', 'Agender', 'Enby', 'p', 'Neuter', 'queer', 'Trans woman', \n",
    "                            'Female (trans)', 'male leaning androgynous', 'A little about you', 'Trans-female', \n",
    "                            'something kinda male?', 'queer/she/they'], 'Other', inplace=True)\n",
    "\n",
    "# Check the updated value counts\n",
    "gender_update = survey_df['Gender'].value_counts()\n",
    "gender_update"
   ]
  },
  {
   "cell_type": "code",
   "execution_count": null,
   "metadata": {},
   "outputs": [],
   "source": [
    "# check 'Gender' column count\n",
    "gender_column = survey_df['Gender'].count()\n",
    "gender_column"
   ]
  }
 ],
 "metadata": {
  "language_info": {
   "name": "python"
  },
  "orig_nbformat": 4
 },
 "nbformat": 4,
 "nbformat_minor": 2
}
